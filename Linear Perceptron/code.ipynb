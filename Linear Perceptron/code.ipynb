{
  "nbformat": 4,
  "nbformat_minor": 0,
  "metadata": {
    "colab": {
      "name": "ML-q3.ipynb",
      "provenance": []
    },
    "kernelspec": {
      "name": "python3",
      "display_name": "Python 3"
    }
  },
  "cells": [
    {
      "cell_type": "code",
      "metadata": {
        "colab": {
          "base_uri": "https://localhost:8080/"
        },
        "id": "_7Kw4EoTtOeN",
        "outputId": "4d861b5f-60c9-49e9-d20e-3dd83d151b02"
      },
      "source": [
        "from google.colab import drive\r\n",
        "drive.mount('/content/drive')"
      ],
      "execution_count": 1,
      "outputs": [
        {
          "output_type": "stream",
          "text": [
            "Mounted at /content/drive\n"
          ],
          "name": "stdout"
        }
      ]
    },
    {
      "cell_type": "markdown",
      "metadata": {
        "id": "U9x3FMSzB3x2"
      },
      "source": [
        "Import the required libraries"
      ]
    },
    {
      "cell_type": "code",
      "metadata": {
        "id": "49bHrFhlvDVn"
      },
      "source": [
        "import pandas as pd\r\n",
        "import numpy as np"
      ],
      "execution_count": 2,
      "outputs": []
    },
    {
      "cell_type": "markdown",
      "metadata": {
        "id": "OrScHToZRqlk"
      },
      "source": [
        "Insert column with 1s and replace class labels from 0 to -1"
      ]
    },
    {
      "cell_type": "code",
      "metadata": {
        "id": "_joh_FLJHWx7"
      },
      "source": [
        "def data_modify(data):\r\n",
        "  data.insert(0, -1,1,True)\r\n",
        "  data.loc[data[data.shape[1]-2] == 0, data.shape[1]-2] = -1\r\n",
        "  return data"
      ],
      "execution_count": 3,
      "outputs": []
    },
    {
      "cell_type": "markdown",
      "metadata": {
        "id": "MJ4kmA5fzl-0"
      },
      "source": [
        "70-30 train-test split"
      ]
    },
    {
      "cell_type": "code",
      "metadata": {
        "id": "I6TKBpPMrcSS"
      },
      "source": [
        "def train_test_split(data):\r\n",
        "  train=data.sample(frac=0.7,random_state=200) \r\n",
        "  test=data.drop(train.index)\r\n",
        "  return train, test"
      ],
      "execution_count": 5,
      "outputs": []
    },
    {
      "cell_type": "markdown",
      "metadata": {
        "id": "LGCZ76Zczw38"
      },
      "source": [
        "Initialize variables"
      ]
    },
    {
      "cell_type": "code",
      "metadata": {
        "id": "XulXWBFqxe4H"
      },
      "source": [
        "def initialize():\r\n",
        "  num_iters = 10**6\r\n",
        "  eta = 1\r\n",
        "  n = train.shape[0]\r\n",
        "  m = train.shape[1]\r\n",
        "  w = np.ones(m-1)\r\n",
        "  return num_iters, w, eta, n, m"
      ],
      "execution_count": 48,
      "outputs": []
    },
    {
      "cell_type": "markdown",
      "metadata": {
        "id": "N6aRs6umzqOZ"
      },
      "source": [
        "Perceptron algorithm"
      ]
    },
    {
      "cell_type": "code",
      "metadata": {
        "id": "3iAYmx4iB_lS"
      },
      "source": [
        "def perceptron(num_iters, n, m, eta, w):\r\n",
        "  for i in range(num_iters):\r\n",
        "    flag = 0\r\n",
        "    for j in range(n):\r\n",
        "      v = np.dot(w.T, train.iloc[j,0:m-1])\r\n",
        "      v = v*train.iloc[j,m-1]\r\n",
        "      if v < 0:\r\n",
        "        w = w - eta*(-1*train.iloc[j,m-1]*train.iloc[j,0:m-1])\r\n",
        "        flag = 1\r\n",
        "        break\r\n",
        "    if flag == 0:\r\n",
        "      break\r\n",
        "  return w"
      ],
      "execution_count": 7,
      "outputs": []
    },
    {
      "cell_type": "markdown",
      "metadata": {
        "id": "3UVyP0mrCGgY"
      },
      "source": [
        "Dataset 1"
      ]
    },
    {
      "cell_type": "code",
      "metadata": {
        "id": "x-GtEEXOqAql"
      },
      "source": [
        "data = pd.read_csv('/content/drive/My Drive/dataset_LP_1.txt', header=None)"
      ],
      "execution_count": 29,
      "outputs": []
    },
    {
      "cell_type": "code",
      "metadata": {
        "id": "ruLZZz_oCKWU"
      },
      "source": [
        "data = data_modify(data)"
      ],
      "execution_count": 30,
      "outputs": []
    },
    {
      "cell_type": "code",
      "metadata": {
        "id": "_iGV4ZcACfxn"
      },
      "source": [
        "train, test = train_test_split(data)"
      ],
      "execution_count": 31,
      "outputs": []
    },
    {
      "cell_type": "code",
      "metadata": {
        "id": "1aRn4WPtClbA"
      },
      "source": [
        "num_iters, w, eta, n, m = initialize()"
      ],
      "execution_count": 42,
      "outputs": []
    },
    {
      "cell_type": "code",
      "metadata": {
        "id": "bOINofrNCrX3"
      },
      "source": [
        "w = perceptron(num_iters, n, m, eta, w)"
      ],
      "execution_count": 43,
      "outputs": []
    },
    {
      "cell_type": "code",
      "metadata": {
        "colab": {
          "base_uri": "https://localhost:8080/"
        },
        "id": "MIw_2Z8RDGIp",
        "outputId": "c82fa44c-7109-448c-aeff-2a76716bb798"
      },
      "source": [
        "print(w)"
      ],
      "execution_count": 44,
      "outputs": [
        {
          "output_type": "stream",
          "text": [
            "-1    121.000000\n",
            " 0   -152.896415\n",
            " 1    -87.516800\n",
            " 2    -96.917908\n",
            " 3    -30.971230\n",
            "dtype: float64\n"
          ],
          "name": "stdout"
        }
      ]
    },
    {
      "cell_type": "code",
      "metadata": {
        "id": "rbizufYDRw49"
      },
      "source": [
        "cnt = 0\r\n",
        "p = test.shape[0]\r\n",
        "q = test.shape[1]"
      ],
      "execution_count": 45,
      "outputs": []
    },
    {
      "cell_type": "code",
      "metadata": {
        "id": "1qZRr_Y0RyYj"
      },
      "source": [
        "for i in range(p):\r\n",
        "  v = np.dot(w.T, train.iloc[i,0:q-1])\r\n",
        "  v = 1*v*train.iloc[i,q-1]\r\n",
        "  if v >= 0:\r\n",
        "    cnt = cnt + 1"
      ],
      "execution_count": 46,
      "outputs": []
    },
    {
      "cell_type": "code",
      "metadata": {
        "colab": {
          "base_uri": "https://localhost:8080/"
        },
        "id": "xY1dyIjDR1Hn",
        "outputId": "682f8224-bf5e-45ec-dccd-f9a095afd5b7"
      },
      "source": [
        "accuracy = (cnt/p)*100\r\n",
        "print('Accuracy = ' + str(accuracy) + '%')"
      ],
      "execution_count": 47,
      "outputs": [
        {
          "output_type": "stream",
          "text": [
            "Accuracy = 99.27184466019418%\n"
          ],
          "name": "stdout"
        }
      ]
    },
    {
      "cell_type": "markdown",
      "metadata": {
        "id": "Nu3b6QrODeFB"
      },
      "source": [
        "Dataset 2"
      ]
    },
    {
      "cell_type": "code",
      "metadata": {
        "id": "nJidJMCEDe6J"
      },
      "source": [
        "data = pd.read_csv('/content/drive/My Drive/dataset_LP_2.csv', header=None)"
      ],
      "execution_count": 8,
      "outputs": []
    },
    {
      "cell_type": "code",
      "metadata": {
        "id": "_GZEwUHmDh90"
      },
      "source": [
        "data = data_modify(data)"
      ],
      "execution_count": 9,
      "outputs": []
    },
    {
      "cell_type": "code",
      "metadata": {
        "id": "8uGRLlP9Djtz"
      },
      "source": [
        "train, test = train_test_split(data)"
      ],
      "execution_count": 10,
      "outputs": []
    },
    {
      "cell_type": "code",
      "metadata": {
        "id": "uDvSzhHLDlix"
      },
      "source": [
        "num_iters, w, eta, n, m = initialize()"
      ],
      "execution_count": 11,
      "outputs": []
    },
    {
      "cell_type": "code",
      "metadata": {
        "id": "0QPmwEw8DnZq"
      },
      "source": [
        "w = perceptron(num_iters, n, m, eta, w)"
      ],
      "execution_count": 12,
      "outputs": []
    },
    {
      "cell_type": "code",
      "metadata": {
        "colab": {
          "base_uri": "https://localhost:8080/"
        },
        "id": "PNXfUsFNDpbK",
        "outputId": "57f861e2-a6d5-44cb-f177-9d372ca6307d"
      },
      "source": [
        "print(w)"
      ],
      "execution_count": 13,
      "outputs": [
        {
          "output_type": "stream",
          "text": [
            "-1     5.000000\n",
            " 0    -1.353448\n",
            " 1     3.732540\n",
            " 2    26.368568\n",
            "dtype: float64\n"
          ],
          "name": "stdout"
        }
      ]
    },
    {
      "cell_type": "code",
      "metadata": {
        "id": "W2yd6UwZcTd4"
      },
      "source": [
        "cnt = 0\r\n",
        "p = test.shape[0]\r\n",
        "q = test.shape[1]"
      ],
      "execution_count": 22,
      "outputs": []
    },
    {
      "cell_type": "code",
      "metadata": {
        "id": "dspTDAnnRUfO"
      },
      "source": [
        "for i in range(p):\r\n",
        "  v = np.dot(w.T, train.iloc[i,0:q-1])\r\n",
        "  v = 1*v*train.iloc[i,q-1]\r\n",
        "  if v >= 0:\r\n",
        "    cnt = cnt + 1"
      ],
      "execution_count": 23,
      "outputs": []
    },
    {
      "cell_type": "code",
      "metadata": {
        "colab": {
          "base_uri": "https://localhost:8080/"
        },
        "id": "hy5T-SCkRYZR",
        "outputId": "3fb4201b-7dd0-4d68-c6e6-b173baa3cba3"
      },
      "source": [
        "accuracy = (cnt/p)*100\r\n",
        "print('Accuracy = ' + str(accuracy) + '%')"
      ],
      "execution_count": 27,
      "outputs": [
        {
          "output_type": "stream",
          "text": [
            "Accuracy = 100.0%\n"
          ],
          "name": "stdout"
        }
      ]
    }
  ]
}